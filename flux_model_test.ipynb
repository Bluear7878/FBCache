{
 "cells": [
  {
   "cell_type": "code",
   "execution_count": 1,
   "metadata": {},
   "outputs": [],
   "source": [
    "import torch\n",
    "from diffusers import FluxPipeline\n",
    "\n",
    "from nunchaku import NunchakuFluxTransformer2dModel"
   ]
  },
  {
   "cell_type": "code",
   "execution_count": 2,
   "metadata": {},
   "outputs": [],
   "source": [
    "device = torch.device(\"cuda\")"
   ]
  },
  {
   "cell_type": "code",
   "execution_count": null,
   "metadata": {},
   "outputs": [
    {
     "name": "stdout",
     "output_type": "stream",
     "text": [
      "[2025-04-04 16:06:43.311] [info] Initializing QuantizedFluxModel\n",
      "[2025-04-04 16:06:43.379] [info] Loading weights from /home/ict04/.cache/huggingface/hub/models--mit-han-lab--svdq-int4-flux.1-dev/snapshots/3af964b97d298d4ed9da753edcc1ba3b322031f2/transformer_blocks.safetensors\n",
      "[2025-04-04 16:06:45.717] [info] Done.\n"
     ]
    }
   ],
   "source": [
    "transformer,m = NunchakuFluxTransformer2dModel.from_pretrained(\"mit-han-lab/svdq-int4-flux.1-dev\")"
   ]
  },
  {
   "cell_type": "code",
   "execution_count": 4,
   "metadata": {},
   "outputs": [],
   "source": [
    "hidden_states = torch.randn(2, 4096, 3072, dtype=torch.bfloat16).to(device)\n",
    "encoder_hidden_states = torch.randn(2, 512, 3072, dtype=torch.bfloat16).to(device)\n",
    "temb = torch.randn(2, 3072, dtype=torch.bfloat16).to(device)\n",
    "\n",
    "rotary_emb_img = torch.randn(2, 4096, 64, 1, 2, dtype=torch.float32).to(device)\n",
    "rotary_emb_txt = torch.randn(2, 512, 64, 1, 2, dtype=torch.float32).to(device)\n",
    "rotary_emb_single = torch.randn(2, 4608, 64, 1, 2, dtype=torch.float32).to(device)"
   ]
  },
  {
   "cell_type": "code",
   "execution_count": 5,
   "metadata": {},
   "outputs": [],
   "source": [
    "out = m.forward(\n",
    "            hidden_states, encoder_hidden_states, temb, rotary_emb_img, rotary_emb_txt, rotary_emb_single\n",
    "        )"
   ]
  },
  {
   "cell_type": "code",
   "execution_count": 7,
   "metadata": {},
   "outputs": [
    {
     "name": "stderr",
     "output_type": "stream",
     "text": [
      "Expected types for transformer: ['FluxTransformer2DModel'], got NunchakuFluxTransformer2dModel.\n"
     ]
    },
    {
     "data": {
      "application/vnd.jupyter.widget-view+json": {
       "model_id": "89cb364d69f84ed8a05f44778b4113ca",
       "version_major": 2,
       "version_minor": 0
      },
      "text/plain": [
       "Loading pipeline components...:   0%|          | 0/7 [00:00<?, ?it/s]"
      ]
     },
     "metadata": {},
     "output_type": "display_data"
    },
    {
     "name": "stderr",
     "output_type": "stream",
     "text": [
      "You set `add_prefix_space`. The tokenizer needs to be converted from the slow tokenizers\n"
     ]
    },
    {
     "data": {
      "application/vnd.jupyter.widget-view+json": {
       "model_id": "837144d44e3e4a7bae56b4d9d5570be4",
       "version_major": 2,
       "version_minor": 0
      },
      "text/plain": [
       "Loading checkpoint shards:   0%|          | 0/2 [00:00<?, ?it/s]"
      ]
     },
     "metadata": {},
     "output_type": "display_data"
    }
   ],
   "source": [
    "pipeline = FluxPipeline.from_pretrained(\n",
    "    \"black-forest-labs/FLUX.1-dev\", transformer=transformer, torch_dtype=torch.bfloat16\n",
    ").to(\"cuda\")"
   ]
  },
  {
   "cell_type": "code",
   "execution_count": null,
   "metadata": {},
   "outputs": [],
   "source": []
  }
 ],
 "metadata": {
  "kernelspec": {
   "display_name": "Python 3",
   "language": "python",
   "name": "python3"
  },
  "language_info": {
   "codemirror_mode": {
    "name": "ipython",
    "version": 3
   },
   "file_extension": ".py",
   "mimetype": "text/x-python",
   "name": "python",
   "nbconvert_exporter": "python",
   "pygments_lexer": "ipython3",
   "version": "3.11.11"
  }
 },
 "nbformat": 4,
 "nbformat_minor": 2
}
